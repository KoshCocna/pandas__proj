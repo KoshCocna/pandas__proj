{
 "cells": [
  {
   "cell_type": "code",
   "execution_count": 1,
   "id": "3f24c51e-ac49-4ad2-b467-4bf9f227e160",
   "metadata": {},
   "outputs": [],
   "source": [
    "import numpy as np\n",
    "import pandas as pd\n",
    "import matplotlib.pyplot as plt\n",
    "import seaborn as sns"
   ]
  },
  {
   "cell_type": "code",
   "execution_count": 3,
   "id": "9265d104-13de-426c-95d2-aea291acded0",
   "metadata": {},
   "outputs": [
    {
     "data": {
      "text/html": [
       "<div>\n",
       "<style scoped>\n",
       "    .dataframe tbody tr th:only-of-type {\n",
       "        vertical-align: middle;\n",
       "    }\n",
       "\n",
       "    .dataframe tbody tr th {\n",
       "        vertical-align: top;\n",
       "    }\n",
       "\n",
       "    .dataframe thead th {\n",
       "        text-align: right;\n",
       "    }\n",
       "</style>\n",
       "<table border=\"1\" class=\"dataframe\">\n",
       "  <thead>\n",
       "    <tr style=\"text-align: right;\">\n",
       "      <th></th>\n",
       "      <th>VIN (1-10)</th>\n",
       "      <th>County</th>\n",
       "      <th>City</th>\n",
       "      <th>State</th>\n",
       "      <th>Postal Code</th>\n",
       "      <th>Model Year</th>\n",
       "      <th>Make</th>\n",
       "      <th>Model</th>\n",
       "      <th>Electric Vehicle Type</th>\n",
       "      <th>Clean Alternative Fuel Vehicle (CAFV) Eligibility</th>\n",
       "      <th>Electric Range</th>\n",
       "      <th>Base MSRP</th>\n",
       "      <th>Legislative District</th>\n",
       "      <th>DOL Vehicle ID</th>\n",
       "      <th>Vehicle Location</th>\n",
       "      <th>Electric Utility</th>\n",
       "      <th>2020 Census Tract</th>\n",
       "    </tr>\n",
       "  </thead>\n",
       "  <tbody>\n",
       "    <tr>\n",
       "      <th>0</th>\n",
       "      <td>5UXKT0C59G</td>\n",
       "      <td>Yakima</td>\n",
       "      <td>Zillah</td>\n",
       "      <td>WA</td>\n",
       "      <td>98953.0</td>\n",
       "      <td>2016</td>\n",
       "      <td>BMW</td>\n",
       "      <td>X5</td>\n",
       "      <td>Plug-in Hybrid Electric Vehicle (PHEV)</td>\n",
       "      <td>Not eligible due to low battery range</td>\n",
       "      <td>14.0</td>\n",
       "      <td>0.0</td>\n",
       "      <td>15.0</td>\n",
       "      <td>206822717</td>\n",
       "      <td>POINT (-120.26317 46.40556)</td>\n",
       "      <td>PACIFICORP</td>\n",
       "      <td>5.307700e+10</td>\n",
       "    </tr>\n",
       "    <tr>\n",
       "      <th>1</th>\n",
       "      <td>5YJ3E1EA2J</td>\n",
       "      <td>Snohomish</td>\n",
       "      <td>Edmonds</td>\n",
       "      <td>WA</td>\n",
       "      <td>98020.0</td>\n",
       "      <td>2018</td>\n",
       "      <td>TESLA</td>\n",
       "      <td>MODEL 3</td>\n",
       "      <td>Battery Electric Vehicle (BEV)</td>\n",
       "      <td>Clean Alternative Fuel Vehicle Eligible</td>\n",
       "      <td>215.0</td>\n",
       "      <td>0.0</td>\n",
       "      <td>21.0</td>\n",
       "      <td>137721636</td>\n",
       "      <td>POINT (-122.37507 47.80807)</td>\n",
       "      <td>PUGET SOUND ENERGY INC</td>\n",
       "      <td>5.306105e+10</td>\n",
       "    </tr>\n",
       "    <tr>\n",
       "      <th>2</th>\n",
       "      <td>1G1RE6E4XE</td>\n",
       "      <td>Kitsap</td>\n",
       "      <td>Port Orchard</td>\n",
       "      <td>WA</td>\n",
       "      <td>98367.0</td>\n",
       "      <td>2014</td>\n",
       "      <td>CHEVROLET</td>\n",
       "      <td>VOLT</td>\n",
       "      <td>Plug-in Hybrid Electric Vehicle (PHEV)</td>\n",
       "      <td>Clean Alternative Fuel Vehicle Eligible</td>\n",
       "      <td>38.0</td>\n",
       "      <td>0.0</td>\n",
       "      <td>26.0</td>\n",
       "      <td>197718468</td>\n",
       "      <td>POINT (-122.6847073 47.50524)</td>\n",
       "      <td>PUGET SOUND ENERGY INC</td>\n",
       "      <td>5.303509e+10</td>\n",
       "    </tr>\n",
       "    <tr>\n",
       "      <th>3</th>\n",
       "      <td>2C4RC1L76M</td>\n",
       "      <td>Skagit</td>\n",
       "      <td>Bow</td>\n",
       "      <td>WA</td>\n",
       "      <td>98232.0</td>\n",
       "      <td>2021</td>\n",
       "      <td>CHRYSLER</td>\n",
       "      <td>PACIFICA</td>\n",
       "      <td>Plug-in Hybrid Electric Vehicle (PHEV)</td>\n",
       "      <td>Clean Alternative Fuel Vehicle Eligible</td>\n",
       "      <td>32.0</td>\n",
       "      <td>0.0</td>\n",
       "      <td>40.0</td>\n",
       "      <td>256274308</td>\n",
       "      <td>POINT (-122.440636 48.5613885)</td>\n",
       "      <td>PUGET SOUND ENERGY INC</td>\n",
       "      <td>5.305795e+10</td>\n",
       "    </tr>\n",
       "    <tr>\n",
       "      <th>4</th>\n",
       "      <td>5YJ3E1EA2J</td>\n",
       "      <td>Thurston</td>\n",
       "      <td>Olympia</td>\n",
       "      <td>WA</td>\n",
       "      <td>98513.0</td>\n",
       "      <td>2018</td>\n",
       "      <td>TESLA</td>\n",
       "      <td>MODEL 3</td>\n",
       "      <td>Battery Electric Vehicle (BEV)</td>\n",
       "      <td>Clean Alternative Fuel Vehicle Eligible</td>\n",
       "      <td>215.0</td>\n",
       "      <td>0.0</td>\n",
       "      <td>2.0</td>\n",
       "      <td>259176578</td>\n",
       "      <td>POINT (-122.817545 46.98876)</td>\n",
       "      <td>PUGET SOUND ENERGY INC</td>\n",
       "      <td>5.306701e+10</td>\n",
       "    </tr>\n",
       "  </tbody>\n",
       "</table>\n",
       "</div>"
      ],
      "text/plain": [
       "   VIN (1-10)     County          City State  Postal Code  Model Year  \\\n",
       "0  5UXKT0C59G     Yakima        Zillah    WA      98953.0        2016   \n",
       "1  5YJ3E1EA2J  Snohomish       Edmonds    WA      98020.0        2018   \n",
       "2  1G1RE6E4XE     Kitsap  Port Orchard    WA      98367.0        2014   \n",
       "3  2C4RC1L76M     Skagit           Bow    WA      98232.0        2021   \n",
       "4  5YJ3E1EA2J   Thurston       Olympia    WA      98513.0        2018   \n",
       "\n",
       "        Make     Model                   Electric Vehicle Type  \\\n",
       "0        BMW        X5  Plug-in Hybrid Electric Vehicle (PHEV)   \n",
       "1      TESLA   MODEL 3          Battery Electric Vehicle (BEV)   \n",
       "2  CHEVROLET      VOLT  Plug-in Hybrid Electric Vehicle (PHEV)   \n",
       "3   CHRYSLER  PACIFICA  Plug-in Hybrid Electric Vehicle (PHEV)   \n",
       "4      TESLA   MODEL 3          Battery Electric Vehicle (BEV)   \n",
       "\n",
       "  Clean Alternative Fuel Vehicle (CAFV) Eligibility  Electric Range  \\\n",
       "0             Not eligible due to low battery range            14.0   \n",
       "1           Clean Alternative Fuel Vehicle Eligible           215.0   \n",
       "2           Clean Alternative Fuel Vehicle Eligible            38.0   \n",
       "3           Clean Alternative Fuel Vehicle Eligible            32.0   \n",
       "4           Clean Alternative Fuel Vehicle Eligible           215.0   \n",
       "\n",
       "   Base MSRP  Legislative District  DOL Vehicle ID  \\\n",
       "0        0.0                  15.0       206822717   \n",
       "1        0.0                  21.0       137721636   \n",
       "2        0.0                  26.0       197718468   \n",
       "3        0.0                  40.0       256274308   \n",
       "4        0.0                   2.0       259176578   \n",
       "\n",
       "                 Vehicle Location        Electric Utility  2020 Census Tract  \n",
       "0     POINT (-120.26317 46.40556)              PACIFICORP       5.307700e+10  \n",
       "1     POINT (-122.37507 47.80807)  PUGET SOUND ENERGY INC       5.306105e+10  \n",
       "2   POINT (-122.6847073 47.50524)  PUGET SOUND ENERGY INC       5.303509e+10  \n",
       "3  POINT (-122.440636 48.5613885)  PUGET SOUND ENERGY INC       5.305795e+10  \n",
       "4    POINT (-122.817545 46.98876)  PUGET SOUND ENERGY INC       5.306701e+10  "
      ]
     },
     "execution_count": 3,
     "metadata": {},
     "output_type": "execute_result"
    }
   ],
   "source": [
    "data = pd.read_csv(\"Electric_Vehicle_Population_Data.csv\")\n",
    "data.head(5)"
   ]
  },
  {
   "cell_type": "code",
   "execution_count": 4,
   "id": "46a52cfc-16b7-47a7-8575-9cab6b35f789",
   "metadata": {},
   "outputs": [
    {
     "name": "stdout",
     "output_type": "stream",
     "text": [
      "<class 'pandas.core.frame.DataFrame'>\n",
      "RangeIndex: 173533 entries, 0 to 173532\n",
      "Data columns (total 17 columns):\n",
      " #   Column                                             Non-Null Count   Dtype  \n",
      "---  ------                                             --------------   -----  \n",
      " 0   VIN (1-10)                                         173533 non-null  object \n",
      " 1   County                                             173528 non-null  object \n",
      " 2   City                                               173528 non-null  object \n",
      " 3   State                                              173533 non-null  object \n",
      " 4   Postal Code                                        173528 non-null  float64\n",
      " 5   Model Year                                         173533 non-null  int64  \n",
      " 6   Make                                               173533 non-null  object \n",
      " 7   Model                                              173533 non-null  object \n",
      " 8   Electric Vehicle Type                              173533 non-null  object \n",
      " 9   Clean Alternative Fuel Vehicle (CAFV) Eligibility  173533 non-null  object \n",
      " 10  Electric Range                                     173532 non-null  float64\n",
      " 11  Base MSRP                                          173532 non-null  float64\n",
      " 12  Legislative District                               173157 non-null  float64\n",
      " 13  DOL Vehicle ID                                     173533 non-null  int64  \n",
      " 14  Vehicle Location                                   173523 non-null  object \n",
      " 15  Electric Utility                                   173528 non-null  object \n",
      " 16  2020 Census Tract                                  173528 non-null  float64\n",
      "dtypes: float64(5), int64(2), object(10)\n",
      "memory usage: 22.5+ MB\n"
     ]
    }
   ],
   "source": [
    "data.info()"
   ]
  },
  {
   "cell_type": "code",
   "execution_count": 5,
   "id": "2f2dd661-c3f8-4042-8214-108bbc56e353",
   "metadata": {},
   "outputs": [
    {
     "data": {
      "text/plain": [
       "VIN (1-10)                                            10571\n",
       "County                                                  193\n",
       "City                                                    710\n",
       "State                                                    46\n",
       "Postal Code                                             847\n",
       "Model Year                                               22\n",
       "Make                                                     40\n",
       "Model                                                   139\n",
       "Electric Vehicle Type                                     2\n",
       "Clean Alternative Fuel Vehicle (CAFV) Eligibility         3\n",
       "Electric Range                                          102\n",
       "Base MSRP                                                31\n",
       "Legislative District                                     49\n",
       "DOL Vehicle ID                                       173533\n",
       "Vehicle Location                                        846\n",
       "Electric Utility                                         76\n",
       "2020 Census Tract                                      2103\n",
       "dtype: int64"
      ]
     },
     "execution_count": 5,
     "metadata": {},
     "output_type": "execute_result"
    }
   ],
   "source": [
    "data.nunique()"
   ]
  },
  {
   "cell_type": "code",
   "execution_count": 46,
   "id": "ae057923-1ad5-4450-81ff-164acde8f4cd",
   "metadata": {},
   "outputs": [],
   "source": [
    "newdata = data.filter([\"County\",\"City\",\"Make\",\"Model\",\"Model Year\"])"
   ]
  },
  {
   "cell_type": "code",
   "execution_count": 47,
   "id": "9d2affee-52d9-400d-9d07-14dbc80b00a9",
   "metadata": {},
   "outputs": [],
   "source": [
    "order = newdata[\"Model Year\"].sort_values().unique().tolist()"
   ]
  },
  {
   "cell_type": "code",
   "execution_count": 41,
   "id": "9a01bbd6-5da1-484e-a74f-16ef15b3b14e",
   "metadata": {},
   "outputs": [
    {
     "data": {
      "text/plain": [
       "[1997,\n",
       " 1998,\n",
       " 1999,\n",
       " 2000,\n",
       " 2002,\n",
       " 2003,\n",
       " 2008,\n",
       " 2010,\n",
       " 2011,\n",
       " 2012,\n",
       " 2013,\n",
       " 2014,\n",
       " 2015,\n",
       " 2016,\n",
       " 2017,\n",
       " 2018,\n",
       " 2019,\n",
       " 2020,\n",
       " 2021,\n",
       " 2022,\n",
       " 2023,\n",
       " 2024]"
      ]
     },
     "execution_count": 41,
     "metadata": {},
     "output_type": "execute_result"
    }
   ],
   "source": [
    "type(order)\n",
    "order"
   ]
  },
  {
   "cell_type": "code",
   "execution_count": 25,
   "id": "6e556f07-874f-42c6-bb68-4ad56f695d9f",
   "metadata": {},
   "outputs": [],
   "source": [
    "### 년도 별로 그룹화해서 그래픽으로 출력"
   ]
  },
  {
   "cell_type": "code",
   "execution_count": 48,
   "id": "bcd8e958-e640-4b97-8198-74c089a55e67",
   "metadata": {},
   "outputs": [
    {
     "data": {
      "text/html": [
       "<div>\n",
       "<style scoped>\n",
       "    .dataframe tbody tr th:only-of-type {\n",
       "        vertical-align: middle;\n",
       "    }\n",
       "\n",
       "    .dataframe tbody tr th {\n",
       "        vertical-align: top;\n",
       "    }\n",
       "\n",
       "    .dataframe thead th {\n",
       "        text-align: right;\n",
       "    }\n",
       "</style>\n",
       "<table border=\"1\" class=\"dataframe\">\n",
       "  <thead>\n",
       "    <tr style=\"text-align: right;\">\n",
       "      <th></th>\n",
       "      <th>County</th>\n",
       "      <th>City</th>\n",
       "      <th>Make</th>\n",
       "      <th>Model</th>\n",
       "      <th>Model Year</th>\n",
       "    </tr>\n",
       "  </thead>\n",
       "  <tbody>\n",
       "    <tr>\n",
       "      <th>173528</th>\n",
       "      <td>King</td>\n",
       "      <td>Redmond</td>\n",
       "      <td>TESLA</td>\n",
       "      <td>MODEL 3</td>\n",
       "      <td>2023</td>\n",
       "    </tr>\n",
       "    <tr>\n",
       "      <th>173529</th>\n",
       "      <td>Snohomish</td>\n",
       "      <td>Snohomish</td>\n",
       "      <td>TESLA</td>\n",
       "      <td>MODEL X</td>\n",
       "      <td>2017</td>\n",
       "    </tr>\n",
       "    <tr>\n",
       "      <th>173530</th>\n",
       "      <td>King</td>\n",
       "      <td>Kent</td>\n",
       "      <td>JEEP</td>\n",
       "      <td>WRANGLER</td>\n",
       "      <td>2024</td>\n",
       "    </tr>\n",
       "    <tr>\n",
       "      <th>173531</th>\n",
       "      <td>King</td>\n",
       "      <td>Seattle</td>\n",
       "      <td>BMW</td>\n",
       "      <td>X5</td>\n",
       "      <td>2016</td>\n",
       "    </tr>\n",
       "    <tr>\n",
       "      <th>173532</th>\n",
       "      <td>King</td>\n",
       "      <td>Seattle</td>\n",
       "      <td>TESLA</td>\n",
       "      <td>MODEL S</td>\n",
       "      <td>2021</td>\n",
       "    </tr>\n",
       "  </tbody>\n",
       "</table>\n",
       "</div>"
      ],
      "text/plain": [
       "           County       City   Make     Model  Model Year\n",
       "173528       King    Redmond  TESLA   MODEL 3        2023\n",
       "173529  Snohomish  Snohomish  TESLA   MODEL X        2017\n",
       "173530       King       Kent   JEEP  WRANGLER        2024\n",
       "173531       King    Seattle    BMW        X5        2016\n",
       "173532       King    Seattle  TESLA   MODEL S        2021"
      ]
     },
     "execution_count": 48,
     "metadata": {},
     "output_type": "execute_result"
    }
   ],
   "source": [
    "newdata.tail()"
   ]
  },
  {
   "cell_type": "code",
   "execution_count": 26,
   "id": "610744a2-6432-4a60-947b-e020d2304fdc",
   "metadata": {},
   "outputs": [
    {
     "data": {
      "text/plain": [
       "<pandas.core.groupby.generic.DataFrameGroupBy object at 0x134898a50>"
      ]
     },
     "execution_count": 26,
     "metadata": {},
     "output_type": "execute_result"
    }
   ],
   "source": [
    "newdata.groupby(\"Model Year\")"
   ]
  },
  {
   "cell_type": "code",
   "execution_count": 49,
   "id": "a104f22e-bf81-409f-a2b8-396e06843795",
   "metadata": {},
   "outputs": [],
   "source": [
    "sns.set(style=\"darkgrid\")"
   ]
  },
  {
   "cell_type": "code",
   "execution_count": null,
   "id": "31258d33-712f-4f12-a549-4aae6950c4c7",
   "metadata": {},
   "outputs": [],
   "source": []
  },
  {
   "cell_type": "code",
   "execution_count": 57,
   "id": "58a9db65-5451-44ee-9404-fc68d42e669c",
   "metadata": {},
   "outputs": [
    {
     "name": "stderr",
     "output_type": "stream",
     "text": [
      "/Users/kskim/miniconda3/envs/ws/lib/python3.11/site-packages/seaborn/_oldcore.py:1498: FutureWarning: is_categorical_dtype is deprecated and will be removed in a future version. Use isinstance(dtype, CategoricalDtype) instead\n",
      "  if pd.api.types.is_categorical_dtype(vector):\n",
      "/Users/kskim/miniconda3/envs/ws/lib/python3.11/site-packages/seaborn/_oldcore.py:1498: FutureWarning: is_categorical_dtype is deprecated and will be removed in a future version. Use isinstance(dtype, CategoricalDtype) instead\n",
      "  if pd.api.types.is_categorical_dtype(vector):\n"
     ]
    },
    {
     "data": {
      "image/png": "[encoded data removed]",
      "text/plain": [
       "<Figure size 640x480 with 1 Axes>"
      ]
     },
     "metadata": {},
     "output_type": "display_data"
    }
   ],
   "source": [
    "ax = sns.countplot(x = \"Model Year\", data=newdata, palette=\"Set2\", order = order)"
   ]
  },
  {
   "cell_type": "code",
   "execution_count": null,
   "id": "1670697f-9477-48fa-b9ee-1ec80d6cfce4",
   "metadata": {},
   "outputs": [],
   "source": []
  }
 ],
 "metadata": {
  "kernelspec": {
   "display_name": "Python 3 (ipykernel)",
   "language": "python",
   "name": "python3"
  },
  "language_info": {
   "codemirror_mode": {
    "name": "ipython",
    "version": 3
   },
   "file_extension": ".py",
   "mimetype": "text/x-python",
   "name": "python",
   "nbconvert_exporter": "python",
   "pygments_lexer": "ipython3",
   "version": "3.11.5"
  }
 },
 "nbformat": 4,
 "nbformat_minor": 5
}
